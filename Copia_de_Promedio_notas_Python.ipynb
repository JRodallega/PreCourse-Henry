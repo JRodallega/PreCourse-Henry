{
  "nbformat": 4,
  "nbformat_minor": 0,
  "metadata": {
    "colab": {
      "provenance": [],
      "authorship_tag": "ABX9TyOqDk7BawcbkKPaR6HHncuQ",
      "include_colab_link": true
    },
    "kernelspec": {
      "name": "python3",
      "display_name": "Python 3"
    },
    "language_info": {
      "name": "python"
    }
  },
  "cells": [
    {
      "cell_type": "markdown",
      "metadata": {
        "id": "view-in-github",
        "colab_type": "text"
      },
      "source": [
        "<a href=\"https://colab.research.google.com/github/JRodallega/PreCourse-Henry/blob/main/Copia_de_Promedio_notas_Python.ipynb\" target=\"_parent\"><img src=\"https://colab.research.google.com/assets/colab-badge.svg\" alt=\"Open In Colab\"/></a>"
      ]
    },
    {
      "cell_type": "code",
      "execution_count": null,
      "metadata": {
        "id": "spnm5nLVjrp1"
      },
      "outputs": [],
      "source": [
        "def principal () :\n",
        "  nota1=4.0\n",
        "  nota2=3.4\n",
        "  nota3=2.3\n",
        "  promedio=0.0\n",
        "  mensaje=\"\"\n",
        "  nota1=float(input(\"digite primer numero:\"))\n",
        "  nota2=float(input(\"digite segundo numero:\"))\n",
        "  nota3=float(input(\"digite tercer numero:\"))\n",
        "  promedio=(nota1+nota2+nota3)/3\n",
        "  print(\"su promedio es:\",promedio)\n",
        "  if promedio >= 4.0:\n",
        "    mensaje=\"usted tiene el 50% de descuento\"\n",
        "  else:\n",
        "       mensaje=\"usted no tiene descuento\"\n",
        "       print(mensaje)"
      ]
    }
  ]
}